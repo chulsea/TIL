{
 "cells": [
  {
   "cell_type": "code",
   "execution_count": 28,
   "metadata": {},
   "outputs": [],
   "source": [
    "tests = {\n",
    "    \"palindrome1\": \"abcddcba\",\n",
    "    \"palindrome2\": \"saippuakivikauppias\",\n",
    "    \"palindrome3\": \"aaaaa\",\n",
    "    \"palindrome4\": \"dcabccd\",\n",
    "    \"palindrome5\": \"gtwrwedf\",\n",
    "    \"palindrome6\": \"a\",\n",
    "    \"palindrome7\": \"tomato\"\n",
    "}"
   ]
  },
  {
   "cell_type": "code",
   "execution_count": 31,
   "metadata": {},
   "outputs": [],
   "source": [
    "def check_palindrome(pal):\n",
    "    for i in range(len(pal) // 2):\n",
    "        if pal[i] != pal[-i-1]:\n",
    "            return False\n",
    "    return True"
   ]
  },
  {
   "cell_type": "code",
   "execution_count": 30,
   "metadata": {},
   "outputs": [
    {
     "name": "stdout",
     "output_type": "stream",
     "text": [
      "True\n",
      "True\n",
      "True\n",
      "False\n",
      "False\n",
      "True\n",
      "False\n"
     ]
    }
   ],
   "source": [
    "for test in tests:\n",
    "    print(check_palindrome(tests[test]))"
   ]
  }
 ],
 "metadata": {
  "kernelspec": {
   "display_name": "Python 3",
   "language": "python",
   "name": "python3"
  },
  "language_info": {
   "codemirror_mode": {
    "name": "ipython",
    "version": 3
   },
   "file_extension": ".py",
   "mimetype": "text/x-python",
   "name": "python",
   "nbconvert_exporter": "python",
   "pygments_lexer": "ipython3",
   "version": "3.6.7"
  }
 },
 "nbformat": 4,
 "nbformat_minor": 2
}
