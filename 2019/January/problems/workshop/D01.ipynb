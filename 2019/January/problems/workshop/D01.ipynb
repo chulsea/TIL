{
 "cells": [
  {
   "cell_type": "markdown",
   "metadata": {},
   "source": [
    "## D01 WORKSHOP"
   ]
  },
  {
   "cell_type": "markdown",
   "metadata": {},
   "source": [
    "**문제 0**\n",
    "- 1월부터 12월까지 다음과 같은 형태로 달력이 출력되도록 코드를 작성하세요.\n",
    "```bash\n",
    "1 월\n",
    "일 월 화 수 목 금 토\n",
    "1 2 3 4 5 6 7\n",
    "8 9 10 11 12 13 14\n",
    "15 16 17 18 19 20 21\n",
    "22 23 24 25 26 27 28\n",
    "29 30 31\n",
    "2 월\n",
    "일 월 화 수 목 금 토\n",
    "1 2 3 4 5 6 7\n",
    "8 9 10 11 12 13 14\n",
    "15 16 17 18 19 20 21\n",
    "22 23 24 25 26 27 28\n",
    "```"
   ]
  },
  {
   "cell_type": "code",
   "execution_count": 81,
   "metadata": {
    "scrolled": false
   },
   "outputs": [
    {
     "name": "stdout",
     "output_type": "stream",
     "text": [
      "1월\n",
      "일\t월\t화\t수\t목\t금\t토\n",
      "\t\t1\t2\t3\t4\t5\n",
      "6\t7\t8\t9\t10\t11\t12\n",
      "13\t14\t15\t16\t17\t18\t19\n",
      "20\t21\t22\t23\t24\t25\t26\n",
      "27\t28\t29\t30\t31\n",
      "\n",
      "2월\n",
      "일\t월\t화\t수\t목\t금\t토\n",
      "\t\t\t\t\t1\t2\n",
      "3\t4\t5\t6\t7\t8\t9\n",
      "10\t11\t12\t13\t14\t15\t16\n",
      "17\t18\t19\t20\t21\t22\t23\n",
      "24\t25\t26\t27\t28\n",
      "\n",
      "3월\n",
      "일\t월\t화\t수\t목\t금\t토\n",
      "\t\t\t\t\t1\t2\n",
      "3\t4\t5\t6\t7\t8\t9\n",
      "10\t11\t12\t13\t14\t15\t16\n",
      "17\t18\t19\t20\t21\t22\t23\n",
      "24\t25\t26\t27\t28\t29\t30\n",
      "31\n",
      "\n",
      "4월\n",
      "일\t월\t화\t수\t목\t금\t토\n",
      "\t1\t2\t3\t4\t5\t6\n",
      "7\t8\t9\t10\t11\t12\t13\n",
      "14\t15\t16\t17\t18\t19\t20\n",
      "21\t22\t23\t24\t25\t26\t27\n",
      "28\t29\t30\n",
      "\n",
      "5월\n",
      "일\t월\t화\t수\t목\t금\t토\n",
      "\t\t\t1\t2\t3\t4\n",
      "5\t6\t7\t8\t9\t10\t11\n",
      "12\t13\t14\t15\t16\t17\t18\n",
      "19\t20\t21\t22\t23\t24\t25\n",
      "26\t27\t28\t29\t30\t31\n",
      "\n",
      "6월\n",
      "일\t월\t화\t수\t목\t금\t토\n",
      "\t\t\t\t\t\t1\n",
      "2\t3\t4\t5\t6\t7\t8\n",
      "9\t10\t11\t12\t13\t14\t15\n",
      "16\t17\t18\t19\t20\t21\t22\n",
      "23\t24\t25\t26\t27\t28\t29\n",
      "30\n",
      "\n",
      "7월\n",
      "일\t월\t화\t수\t목\t금\t토\n",
      "\t1\t2\t3\t4\t5\t6\n",
      "7\t8\t9\t10\t11\t12\t13\n",
      "14\t15\t16\t17\t18\t19\t20\n",
      "21\t22\t23\t24\t25\t26\t27\n",
      "28\t29\t30\t31\n",
      "\n",
      "8월\n",
      "일\t월\t화\t수\t목\t금\t토\n",
      "\t\t\t\t1\t2\t3\n",
      "4\t5\t6\t7\t8\t9\t10\n",
      "11\t12\t13\t14\t15\t16\t17\n",
      "18\t19\t20\t21\t22\t23\t24\n",
      "25\t26\t27\t28\t29\t30\t31\n",
      "\n",
      "9월\n",
      "일\t월\t화\t수\t목\t금\t토\n",
      "1\t2\t3\t4\t5\t6\t7\n",
      "8\t9\t10\t11\t12\t13\t14\n",
      "15\t16\t17\t18\t19\t20\t21\n",
      "22\t23\t24\t25\t26\t27\t28\n",
      "29\t30\n",
      "\n",
      "10월\n",
      "일\t월\t화\t수\t목\t금\t토\n",
      "\t\t1\t2\t3\t4\t5\n",
      "6\t7\t8\t9\t10\t11\t12\n",
      "13\t14\t15\t16\t17\t18\t19\n",
      "20\t21\t22\t23\t24\t25\t26\n",
      "27\t28\t29\t30\t31\n",
      "\n",
      "11월\n",
      "일\t월\t화\t수\t목\t금\t토\n",
      "\t\t\t\t\t1\t2\n",
      "3\t4\t5\t6\t7\t8\t9\n",
      "10\t11\t12\t13\t14\t15\t16\n",
      "17\t18\t19\t20\t21\t22\t23\n",
      "24\t25\t26\t27\t28\t29\t30\n",
      "\n",
      "12월\n",
      "일\t월\t화\t수\t목\t금\t토\n",
      "1\t2\t3\t4\t5\t6\t7\n",
      "8\t9\t10\t11\t12\t13\t14\n",
      "15\t16\t17\t18\t19\t20\t21\n",
      "22\t23\t24\t25\t26\t27\t28\n",
      "29\t30\t31\n",
      "\n"
     ]
    }
   ],
   "source": [
    "# 정답\n",
    "day31 = [1, 3, 5, 7, 8, 10, 12]\n",
    "day30 = [4, 6, 9, 11]\n",
    "calendar = {}\n",
    "for i in range(1,13):\n",
    "    s = \"\"\n",
    "    if i in day31:\n",
    "        n = 31\n",
    "    elif i in day30:\n",
    "        n = 30\n",
    "    else :\n",
    "        n = 28\n",
    "    indent = 2 if i == 1 else indent\n",
    "    init = indent\n",
    "    for d in range(1, n + 1):        \n",
    "            if not (d + init) % 7:\n",
    "                s += str(d) + \"\\n\"\n",
    "                indent = 0\n",
    "            else : \n",
    "                s += str(d) + \"\\t\"\n",
    "                indent += 1\n",
    "    calendar[i] = \"\\t\" * init + s.strip() + \"\\n\"\n",
    "for month, days in calendar.items():\n",
    "    print(f\"{month}월\\n일\\t월\\t화\\t수\\t목\\t금\\t토\\n{days}\")"
   ]
  },
  {
   "cell_type": "markdown",
   "metadata": {},
   "source": [
    "**문제 1**\n",
    "- 두 개의 정수 n과 m이 주어집니다. 반복문을 사용하지 않고 별(*) 문자를 이용해 가로의 길이가 n, 세로의 길이가 m인 직사각형 형태를 출력해보세요."
   ]
  },
  {
   "cell_type": "code",
   "execution_count": 79,
   "metadata": {},
   "outputs": [],
   "source": [
    "# 문제\n",
    "n = 5\n",
    "m = 9"
   ]
  },
  {
   "cell_type": "code",
   "execution_count": 80,
   "metadata": {},
   "outputs": [
    {
     "name": "stdout",
     "output_type": "stream",
     "text": [
      "*****\n",
      "*****\n",
      "*****\n",
      "*****\n",
      "*****\n",
      "*****\n",
      "*****\n",
      "*****\n",
      "*****\n",
      "\n"
     ]
    }
   ],
   "source": [
    "# 정답\n",
    "s = (\"*\" * n + \"\\n\") * m\n",
    "print(s)"
   ]
  },
  {
   "cell_type": "markdown",
   "metadata": {},
   "source": [
    "**문제2**\n",
    "- 다음 딕셔너리에서 평균 점수를 출력하시오."
   ]
  },
  {
   "cell_type": "code",
   "execution_count": null,
   "metadata": {},
   "outputs": [],
   "source": [
    "# 문제\n",
    "student = {'python': 80, 'algorithm': 99, 'django': 89, 'flask': 83}"
   ]
  },
  {
   "cell_type": "code",
   "execution_count": 77,
   "metadata": {},
   "outputs": [
    {
     "name": "stdout",
     "output_type": "stream",
     "text": [
      "87.75\n"
     ]
    }
   ],
   "source": [
    "# 정답\n",
    "avg = sum(student.values()) / len(student)\n",
    "print(avg)"
   ]
  },
  {
   "cell_type": "markdown",
   "metadata": {},
   "source": [
    "**문제3**\n",
    "- 다음은 학생들의 혈액형(A, B, AB, O)에 대한 데이터이다. for문을 이용하여 각 혈액형 별 학생수의 합계를 구하시오."
   ]
  },
  {
   "cell_type": "code",
   "execution_count": null,
   "metadata": {},
   "outputs": [],
   "source": [
    "# 문제\n",
    "blood_types = ['A', 'B', 'A', 'O', 'AB', 'AB', 'O', 'A', 'B', 'O', 'B', 'AB']"
   ]
  },
  {
   "cell_type": "code",
   "execution_count": 76,
   "metadata": {},
   "outputs": [
    {
     "name": "stdout",
     "output_type": "stream",
     "text": [
      "{'A': 3, 'B': 3, 'O': 3, 'AB': 3}\n"
     ]
    }
   ],
   "source": [
    "# 정답\n",
    "dict_blood = {\n",
    "    \"A\": 0,\n",
    "    \"B\": 0,\n",
    "    \"O\": 0,\n",
    "    \"AB\": 0\n",
    "}\n",
    "\n",
    "for b in blood_types:\n",
    "    dict_blood[b] += 1\n",
    "print(dict_blood)"
   ]
  }
 ],
 "metadata": {
  "kernelspec": {
   "display_name": "Python 3",
   "language": "python",
   "name": "python3"
  },
  "language_info": {
   "codemirror_mode": {
    "name": "ipython",
    "version": 3
   },
   "file_extension": ".py",
   "mimetype": "text/x-python",
   "name": "python",
   "nbconvert_exporter": "python",
   "pygments_lexer": "ipython3",
   "version": "3.6.7"
  },
  "toc": {
   "base_numbering": 1,
   "nav_menu": {},
   "number_sections": true,
   "sideBar": true,
   "skip_h1_title": false,
   "title_cell": "Table of Contents",
   "title_sidebar": "Contents",
   "toc_cell": false,
   "toc_position": {},
   "toc_section_display": true,
   "toc_window_display": false
  }
 },
 "nbformat": 4,
 "nbformat_minor": 2
}
