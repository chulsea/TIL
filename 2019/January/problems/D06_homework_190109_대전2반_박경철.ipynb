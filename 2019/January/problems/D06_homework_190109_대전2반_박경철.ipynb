{
 "cells": [
  {
   "cell_type": "markdown",
   "metadata": {},
   "source": [
    "# D06 Workshop"
   ]
  },
  {
   "cell_type": "code",
   "execution_count": 88,
   "metadata": {},
   "outputs": [],
   "source": [
    "def bisection(x):\n",
    "    prev = x / 2\n",
    "    current = x\n",
    "    while not abs(current - prev) <= 1e-10:\n",
    "        temp = (current + prev) / 2\n",
    "        if temp ** 2 > x:\n",
    "            current = temp\n",
    "        else :\n",
    "            prev = temp\n",
    "    return current"
   ]
  },
  {
   "cell_type": "code",
   "execution_count": 104,
   "metadata": {
    "scrolled": false
   },
   "outputs": [
    {
     "name": "stdout",
     "output_type": "stream",
     "text": [
      "1.7320508076518308\n"
     ]
    }
   ],
   "source": [
    "print(bisection(3))"
   ]
  }
 ],
 "metadata": {
  "kernelspec": {
   "display_name": "Python 3",
   "language": "python",
   "name": "python3"
  },
  "language_info": {
   "codemirror_mode": {
    "name": "ipython",
    "version": 3
   },
   "file_extension": ".py",
   "mimetype": "text/x-python",
   "name": "python",
   "nbconvert_exporter": "python",
   "pygments_lexer": "ipython3",
   "version": "3.6.7"
  }
 },
 "nbformat": 4,
 "nbformat_minor": 2
}
