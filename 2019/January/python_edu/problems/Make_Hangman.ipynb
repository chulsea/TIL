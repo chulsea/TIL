{
 "cells": [
  {
   "cell_type": "markdown",
   "metadata": {},
   "source": [
    "# 행맨 게임 만들기 "
   ]
  },
  {
   "cell_type": "markdown",
   "metadata": {},
   "source": [
    "## 답안 확인 하기\n",
    "\n",
    "> 행맨 게임을 위한 코드를 작성해봅시다. \n",
    ">\n",
    "> `isanswer(answer, letters)`는 정답 문자열(answer)과 추측 알파벳의 리스트(letters)를 받아서, True/False 결과를 반환합니다."
   ]
  },
  {
   "cell_type": "code",
   "execution_count": 23,
   "metadata": {},
   "outputs": [],
   "source": [
    "# 여기에 코드를 작성하세요.\n",
    "def isanswer(answer, letters):\n",
    "    ans = set(answer)\n",
    "    for i in letters:\n",
    "        if i in ans:\n",
    "            ans.remove(i)\n",
    "    return True if not ans else False\n",
    "# return not (set(answer) - set(letters))"
   ]
  },
  {
   "cell_type": "code",
   "execution_count": 24,
   "metadata": {
    "scrolled": false
   },
   "outputs": [
    {
     "name": "stdout",
     "output_type": "stream",
     "text": [
      "False\n",
      "True\n"
     ]
    }
   ],
   "source": [
    "print(isanswer('apple', ['a', 'p', 'l'])) #=> False\n",
    "print(isanswer('apple', ['a', 'p', 'l', 'e'])) #=> True"
   ]
  },
  {
   "cell_type": "markdown",
   "metadata": {},
   "source": [
    "## 현재 상태 출력하기\n",
    "\n",
    "> 행맨 게임을 위한 코드를 작성해봅시다. \n",
    ">\n",
    "> `status(answer, letters)`는 정답 문자열(answer)과 추측 알파벳의 리스트(letters)를 받아서, 현재 결과를 반환합니다."
   ]
  },
  {
   "cell_type": "code",
   "execution_count": 15,
   "metadata": {},
   "outputs": [],
   "source": [
    "# replace\n",
    "def status(answer, letters):\n",
    "    ans = [\"_\" for _ in range(len(answer))]\n",
    "    for s in answer:\n",
    "        if s in letters:\n",
    "            temp = [i for i, a in enumerate(answer) if a == s]\n",
    "            for i in temp:\n",
    "                ans[i] = s\n",
    "    return \"\".join(ans)"
   ]
  },
  {
   "cell_type": "code",
   "execution_count": 16,
   "metadata": {},
   "outputs": [
    {
     "data": {
      "text/plain": [
       "'appl_'"
      ]
     },
     "execution_count": 16,
     "metadata": {},
     "output_type": "execute_result"
    }
   ],
   "source": [
    "status('apple', ['a', 'p', 'l']) #=> 'appl_'"
   ]
  },
  {
   "cell_type": "markdown",
   "metadata": {},
   "source": [
    "## 행맨 로직 만들기 - 자유코딩!\n",
    "\n",
    "> 위의 코드를 활용하여 `hangman(answer)`를 만들어봅시다!\n",
    ">\n",
    "> 사용자가 답을 맞출 때까지 진행하며, 8번내로 정답을 맞춰야 합니다.\n"
   ]
  },
  {
   "cell_type": "code",
   "execution_count": 13,
   "metadata": {},
   "outputs": [],
   "source": [
    "questions = [\"activity\", \"document\", \"apple\", \"simple\", \"study\", \"give\", \"take\", \"sound\", \"chance\"]\n",
    "\n",
    "def isanswer(answer, letter):\n",
    "    if answer == letter:\n",
    "        return True\n",
    "    return False\n",
    "\n",
    "def check_answer(answer, status, input_letter):\n",
    "    if input_letter in answer:\n",
    "        temp = [i for i, a in enumerate(answer) if a == input_letter]\n",
    "        for i in temp:\n",
    "            status[i] = input_letter\n",
    "    return \"\".join(status)\n",
    "\n",
    "def hangman(answer):\n",
    "    count = 0\n",
    "    chance = 8 if len(answer) <= 5 else 12\n",
    "    status = [\"_\" for _ in range(len(answer))]\n",
    "    overlap_word = []\n",
    "    print(f\"========행맨게임 시작! 기회는 단 {chance}번!========\\n\")\n",
    "    while count < chance:\n",
    "        input_letter = input(\"알파벳을 입력해주세요!\\n\").lower()\n",
    "        if len(input_letter) > 1:\n",
    "            print(\"알파벳 하나만 입력하셔야 합니다!\\n\")\n",
    "            continue\n",
    "        elif input_letter in overlap_word:\n",
    "            print(f\"이미 입력하신 단어입니다.\\n입력한 단어 목록: {overlap_word}\\n\")\n",
    "            continue\n",
    "        result = check_answer(answer, status, input_letter)\n",
    "        overlap_word.append(input_letter)\n",
    "        count += 1\n",
    "        check = isanswer(answer, result)\n",
    "        if check:\n",
    "            print(f\"축하합니다! {result} 정답입니다!\")\n",
    "            break\n",
    "        else:\n",
    "            print(f\"{result} / 현재 남은 기회: {chance - count}\\n\")\n",
    "    if not check:\n",
    "        print(f\"문제를 풀지 못했습니다 답은 {answer}입니다!\")"
   ]
  },
  {
   "cell_type": "code",
   "execution_count": 14,
   "metadata": {
    "scrolled": false
   },
   "outputs": [
    {
     "name": "stdout",
     "output_type": "stream",
     "text": [
      "========행맨게임 시작 기회는 단 12번!========\n",
      "\n",
      "알파벳을 입력해주세요!\n",
      "r\n",
      "______ / 현재 남은 기회: 11\n",
      "\n",
      "알파벳을 입력해주세요!\n",
      "f\n",
      "______ / 현재 남은 기회: 10\n",
      "\n",
      "알파벳을 입력해주세요!\n",
      "e\n",
      "_____e / 현재 남은 기회: 9\n",
      "\n",
      "알파벳을 입력해주세요!\n",
      "a\n",
      "_____e / 현재 남은 기회: 8\n",
      "\n",
      "알파벳을 입력해주세요!\n",
      "i\n",
      "_i___e / 현재 남은 기회: 7\n",
      "\n",
      "알파벳을 입력해주세요!\n",
      "c\n",
      "_i___e / 현재 남은 기회: 6\n",
      "\n",
      "알파벳을 입력해주세요!\n",
      "l\n",
      "_i__le / 현재 남은 기회: 5\n",
      "\n",
      "알파벳을 입력해주세요!\n",
      "p\n",
      "_i_ple / 현재 남은 기회: 4\n",
      "\n",
      "알파벳을 입력해주세요!\n",
      "s\n",
      "si_ple / 현재 남은 기회: 3\n",
      "\n",
      "알파벳을 입력해주세요!\n",
      "m\n",
      "축하합니다! 정답입니다!\n"
     ]
    }
   ],
   "source": [
    "import random\n",
    "question = random.choice(questions)\n",
    "hangman(question)"
   ]
  }
 ],
 "metadata": {
  "kernelspec": {
   "display_name": "Python 3",
   "language": "python",
   "name": "python3"
  },
  "language_info": {
   "codemirror_mode": {
    "name": "ipython",
    "version": 3
   },
   "file_extension": ".py",
   "mimetype": "text/x-python",
   "name": "python",
   "nbconvert_exporter": "python",
   "pygments_lexer": "ipython3",
   "version": "3.6.7"
  },
  "latex_envs": {
   "LaTeX_envs_menu_present": true,
   "autoclose": false,
   "autocomplete": true,
   "bibliofile": "biblio.bib",
   "cite_by": "apalike",
   "current_citInitial": 1,
   "eqLabelWithNumbers": true,
   "eqNumInitial": 1,
   "hotkeys": {
    "equation": "Ctrl-E",
    "itemize": "Ctrl-I"
   },
   "labels_anchors": false,
   "latex_user_defs": false,
   "report_style_numbering": false,
   "user_envs_cfg": false
  },
  "toc": {
   "base_numbering": 1,
   "nav_menu": {},
   "number_sections": true,
   "sideBar": true,
   "skip_h1_title": false,
   "title_cell": "Table of Contents",
   "title_sidebar": "Contents",
   "toc_cell": false,
   "toc_position": {},
   "toc_section_display": true,
   "toc_window_display": false
  }
 },
 "nbformat": 4,
 "nbformat_minor": 2
}
